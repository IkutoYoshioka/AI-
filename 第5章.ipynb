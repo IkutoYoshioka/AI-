{
  "nbformat": 4,
  "nbformat_minor": 0,
  "metadata": {
    "colab": {
      "provenance": [],
      "mount_file_id": "1Lga-p1eVA-5PVwsoTRHhYLQucOQLDY3C",
      "authorship_tag": "ABX9TyNTlZ5xukcsNoYsqxGkSytp",
      "include_colab_link": true
    },
    "kernelspec": {
      "name": "python3",
      "display_name": "Python 3"
    },
    "language_info": {
      "name": "python"
    }
  },
  "cells": [
    {
      "cell_type": "markdown",
      "metadata": {
        "id": "view-in-github",
        "colab_type": "text"
      },
      "source": [
        "<a href=\"https://colab.research.google.com/github/IkutoYoshioka/AI-/blob/main/%E7%AC%AC5%E7%AB%A0.ipynb\" target=\"_parent\"><img src=\"https://colab.research.google.com/assets/colab-badge.svg\" alt=\"Open In Colab\"/></a>"
      ]
    },
    {
      "cell_type": "markdown",
      "source": [
        "# 第5章：推測統計の基礎"
      ],
      "metadata": {
        "id": "OqA5ZkG0sQsE"
      }
    },
    {
      "cell_type": "markdown",
      "source": [
        "## 5.1 統計的仮説検定の考え方"
      ],
      "metadata": {
        "id": "JVqvJ5E-sXJL"
      }
    },
    {
      "cell_type": "markdown",
      "source": [
        "### 5.1.1 この章の目的"
      ],
      "metadata": {
        "id": "4uhA1r6vseqp"
      }
    },
    {
      "cell_type": "markdown",
      "source": [
        "* 今まで...  \n",
        "\\begin{equation}\n",
        "Y = β_0 + β_1X_1 + ... + β_dX_d + ε\n",
        "\\end{equation}  \n",
        "という線形構造を仮定して、OLS推定量によって回帰係数$β_0,β_1,..,β_d$を推定する方法をやってきた。  \n",
        "* この章は、**その結果として得られた推定量$\\hat{β_d}$の値からどんなことが言えるかを考える。**"
      ],
      "metadata": {
        "id": "ytcPSCzosqCK"
      }
    },
    {
      "cell_type": "markdown",
      "source": [
        "### 5.1.2 統計的仮説検定"
      ],
      "metadata": {
        "id": "VuqOVqelvF10"
      }
    },
    {
      "cell_type": "markdown",
      "source": [
        "\n",
        "\n",
        "1.   有意水準を決定\n",
        "2.   帰無仮説$H_0$ と対立仮説$H_1$ を決定\n",
        "3.   母集団から標本$X$を抽出\n",
        "4.   帰無仮説$H_0$ のもとで標本$X$を得る確率$p$を計算：  \n",
        "     $p < $ 有意水準 ➡ $H_0$ を棄却....（期待している結果）  \n",
        "     $p > $ 有意水準 ➡ $H_0$ を受容.... （単に帰無仮説を否定するに足る根拠が得られなかっただけで、依然として帰無仮説が正しくない可能性は否定できない）        \n",
        "\n",
        "          \n",
        "\n"
      ],
      "metadata": {
        "id": "N6ms7fHYvLl1"
      }
    },
    {
      "cell_type": "markdown",
      "source": [
        "* ex) コイン投げ  \n",
        "     \n",
        "     1. 有意水準を5％と設定。\n",
        "     2. 帰無仮説を「表が出る確率が1/2：p=1/2」、対立仮説を「表が出る確率が1/2ではない：p!=1/2」とする。\n",
        "     3. コインを100回投げた結果、表が65回、裏が35回出たとする。\n",
        "     4. 帰無仮説のもとで「100回中表が41～60回出る確率」...標本における表の割合と母集団における表の割合（1/2）の差が10％以内である確率を計算すると、およそ95％だとわかる。"
      ],
      "metadata": {
        "id": "i3HcVKKezw3S"
      }
    },
    {
      "cell_type": "code",
      "execution_count": 1,
      "metadata": {
        "id": "wpZExCMkqzBk"
      },
      "outputs": [],
      "source": [
        "import numpy as np\n",
        "from scipy.stats import binom\n",
        "import pandas as pd\n",
        "from scipy.stats import norm\n",
        "from statsmodels.formula.api import ols\n",
        "import matplotlib.pyplot as plt"
      ]
    },
    {
      "cell_type": "code",
      "source": [
        "# コイン投げの例\n",
        "\n",
        "# binom;二項分布\n",
        "# cdf;累積分布関数\n",
        "p40 = binom.cdf(k = 40, n = 100, p = 0.5)\n",
        "p60 = binom.cdf(k = 60, n = 100, p = 0.5)\n",
        "\n",
        "print(p60 - p40)"
      ],
      "metadata": {
        "colab": {
          "base_uri": "https://localhost:8080/"
        },
        "id": "GVl0m1hd4lAB",
        "outputId": "aa1b04bf-8818-4c85-af32-aee3dddb88d1"
      },
      "execution_count": 2,
      "outputs": [
        {
          "output_type": "stream",
          "name": "stdout",
          "text": [
            "0.9539559330706572\n"
          ]
        }
      ]
    },
    {
      "cell_type": "markdown",
      "source": [
        "> 100回試行し、表が65回出るという標本$X$が出る確率は$1-0.9539$ から、5％より小さな確率ということがわかる。  \n",
        "> よって、$H_0:p = 1/2$は棄却される。"
      ],
      "metadata": {
        "id": "KKmXnud06CNV"
      }
    },
    {
      "cell_type": "markdown",
      "source": [
        "### 5.1.4 回帰分析と統計的仮説検定"
      ],
      "metadata": {
        "id": "CqRAEpU47nJ0"
      }
    },
    {
      "cell_type": "markdown",
      "source": [
        "- 「教育年数(educ) は賃金(wage) の予測に役立つか？」という問題を考える。"
      ],
      "metadata": {
        "id": "lfIOtB_08JTh"
      }
    },
    {
      "cell_type": "markdown",
      "source": [
        "1. wageをeducとその他説明変数に回帰し、教育年数の回帰係数$β_{educ}$の推定値$\\hat{β}_{educ}$を求める。  \n",
        "2. <u>回帰分析の推定結果をうまく使って</u>、帰無仮説$H_0:β_{educ} = 0$ を検定する。  \n",
        "3. 帰無仮説が有意水準$α$%で棄却されたなら、教育年数の情報は賃金の予測において有用であることが言える。このとき、教育年数の推定量は「有意水準$α$%で**統計的に有意**である」という。\n",
        "\n"
      ],
      "metadata": {
        "id": "OK5eO87OAEqG"
      }
    },
    {
      "cell_type": "markdown",
      "source": [
        "## 5.2 平均値の検定"
      ],
      "metadata": {
        "id": "XlyQgNMRDFLy"
      }
    },
    {
      "cell_type": "markdown",
      "source": [
        "### 5.2.1 問題設定"
      ],
      "metadata": {
        "id": "625S2oXYDO6a"
      }
    },
    {
      "cell_type": "markdown",
      "source": [
        "* 平均値の検定は、様々な統計的仮説検定のなかで最も基本的なもの。  \n",
        "* ある確率密度関数$f$について、その平均値を $μ = ∫uf(u)du$ とする。2つの仮説「$μ$ = $0$」、「$μ$ != $0$」を標本を利用することでどちらを真実と判断するかを考える。"
      ],
      "metadata": {
        "id": "NEzKZawsDSxK"
      }
    },
    {
      "cell_type": "markdown",
      "source": [
        "### 5.2.2 正規分布$N(μ,1)$の場合"
      ],
      "metadata": {
        "id": "O1Z6e0MUFo0o"
      }
    },
    {
      "cell_type": "markdown",
      "source": [
        "1. 有意水準の選択、5％とする。\n",
        "2. 帰無仮説の設定、$H_0:μ$ = $0$、$H_1:μ$ != $0$とする。\n",
        "3. 標本の抽出：大きさ１の標本$X = 2.23$が得られたとする。\n",
        "4. 帰無仮説の検定：帰無仮説が正しいとすると標準正規分布$N(0,1)$から標本$X = 2.23$を得たことになる。しかし、$|X|>1.96$となる確率はおよそ5％であるため$|X|\\geq2.23$となる標本を得る確率は5％未満である。よって、帰無仮説は棄却される。"
      ],
      "metadata": {
        "id": "mXR_B-awLJUg"
      }
    },
    {
      "cell_type": "markdown",
      "source": [
        "> 「平均値μはわからないが、正規分布であることは判明している」状況は考えにくく、実用性に乏しい"
      ],
      "metadata": {
        "id": "GayQXSSaPCGE"
      }
    },
    {
      "cell_type": "markdown",
      "source": [
        "### 5.2.3 t検定 、5.2.4 有意水準と棄却域"
      ],
      "metadata": {
        "id": "QocTvq_OPFqD"
      }
    },
    {
      "cell_type": "markdown",
      "source": [
        "* 問題を一般化して、「母集団分布についてはなにもわからない」とする。"
      ],
      "metadata": {
        "id": "O9U6gGv_PhnJ"
      }
    },
    {
      "cell_type": "markdown",
      "source": [
        "1. 有意水準を5％とする。(棄却域は5％)\n",
        "2. 帰無仮説を$H_0:μ$ = $0$、対立仮説を$H_1:μ$ != $0$とする。\n",
        "3. 母集団$f$から大きさ$n$の標本を独立に抽出する。ここで$n$が十分に大きい数ならば、中心極限定理により、$Z_n$は近似的に標準正規分布に従う。\n",
        "\\begin{equation}\n",
        "Z_n = \\frac{\\sqrt{n}(\\overline{X_n} - μ)}{\\sqrt{V_n}}\n",
        "\\end{equation}  \n",
        "   $\\overline{X_n}$は標本平均、$V_n$は標本分散。  \n",
        "4. 帰無仮説$H_0:μ$ = $0$が正しいとすると、\n",
        "\\begin{equation}\n",
        "t_n = \\frac{\\sqrt{n}}{\\sqrt{V_n}}\\overline{X_n}\n",
        "\\end{equation}  \n",
        "   として計算可能であり、この$t_n$が近似的に$N(0,1)$に従う。したがって、$|t|>1.96$(有意水準が5％の時の棄却臨界値)であるならば、有意水準5％で帰無仮説は棄却される。  \n",
        "\n",
        "* 統計量$t_n$を、この検定における**$t$値**という。  \n",
        "* $n$が十分に大きくなく正規分布による近似が正確でない場合には、**t分布**と呼ばれる分布から棄却臨界値を求める必要がある。      "
      ],
      "metadata": {
        "id": "C1TuUPvLPu1Y"
      }
    },
    {
      "cell_type": "markdown",
      "source": [
        "\n",
        "### 例題"
      ],
      "metadata": {
        "id": "OoU3FoEDWORy"
      }
    },
    {
      "cell_type": "code",
      "source": [
        "# 母集団A,Bから無作為に抽出された標本distA,diatB\n",
        "# 帰無仮説 H_0:μ=0を検定する。\n",
        "# 標本の大きさはどちらも100\n",
        "\n",
        "simdata = pd.read_csv('/content/drive/MyDrive/応用マクロゼミ/distributions.csv')\n",
        "\n",
        "# distA...\n",
        "sample_mean = simdata.mean(numeric_only = True)[0]\n",
        "sample_var = simdata.var(numeric_only = True)[0]\n",
        "\n",
        "print(\n",
        "    # 標本平均\n",
        "    \"Mean of A: \", sample_mean, \"\\n\",\n",
        "    # 標本分散\n",
        "    \"Varicane of A: \", sample_var, \"\\n\",\n",
        "    # t_n の式を参照\n",
        "    \"t-value: \", (100 ** 0.5) * (sample_var ** -0.5) * (sample_mean)\n",
        ")"
      ],
      "metadata": {
        "colab": {
          "base_uri": "https://localhost:8080/"
        },
        "id": "1DOmKkAD7MzY",
        "outputId": "12845b2a-d46f-4caa-d979-f951adf6ace6"
      },
      "execution_count": 4,
      "outputs": [
        {
          "output_type": "stream",
          "name": "stdout",
          "text": [
            "Mean of A:  2.0423230835000004 \n",
            " Varicane of A:  0.37278460765476673 \n",
            " t-value:  33.44994900706078\n"
          ]
        }
      ]
    },
    {
      "cell_type": "markdown",
      "source": [
        "> たとえ有意水準が0.1％だとしても、分布Aについての帰無仮説は棄却される。  \n",
        "> distAは、一様分布U(1,3)から抽出されたものでμ=2。検定の結果が正しいことがわかる。"
      ],
      "metadata": {
        "id": "B_h6TOLUcMTe"
      }
    },
    {
      "cell_type": "code",
      "source": [
        "# distB...\n",
        "sample_mean2 = simdata.mean(numeric_only = True)[1]\n",
        "sample_var2 = simdata.var(numeric_only = True)[1]\n",
        "\n",
        "print(\n",
        "    \"Mean of B:\", sample_mean2, \"\\n\",\n",
        "    \"Variance of B:\", sample_var2, \"\\n\",\n",
        "    \"t-value:\", (100 ** 0.5) * (sample_var2 ** -0.5) * (sample_mean2)\n",
        ")"
      ],
      "metadata": {
        "colab": {
          "base_uri": "https://localhost:8080/"
        },
        "id": "kk0-WIyfdfbp",
        "outputId": "b36ab457-ca7c-4010-fcd9-6192d526f534"
      },
      "execution_count": 5,
      "outputs": [
        {
          "output_type": "stream",
          "name": "stdout",
          "text": [
            "Mean of B: 0.07492689160000002 \n",
            " Variance of B: 0.35923372666626646 \n",
            " t-value: 1.250112690984459\n"
          ]
        }
      ]
    },
    {
      "cell_type": "markdown",
      "source": [
        "> 有意水準が10％あっても帰無仮説が棄却できない。  \n",
        "> distBは、一様分布U(-1,1)から抽出されているからμ=0。検定の結果が正しいことがわかる。"
      ],
      "metadata": {
        "id": "cFh-P8krehVz"
      }
    },
    {
      "cell_type": "markdown",
      "source": [
        "### 5.2.6 p値"
      ],
      "metadata": {
        "id": "jHBBFStTfw-A"
      }
    },
    {
      "cell_type": "markdown",
      "source": [
        "* 今までのやり方は有意水準の選択が恣意的。有意水準の選択が不要になるやり方がp値を用いる方法。"
      ],
      "metadata": {
        "id": "yVLV96Pvf0rs"
      }
    },
    {
      "cell_type": "markdown",
      "source": [
        "* ex)distBのt値は1.250113。このとき、帰無仮説を棄却するには、有意水準をどこまで大きくすべきか？  \n",
        "  つまり、$N(0,1)$に従う確率変数$z$とするとき、${|z|}\\geq{1.250113}$となる確率はどのくらいか問われている。"
      ],
      "metadata": {
        "id": "eNbeHDN8ggfa"
      }
    },
    {
      "cell_type": "code",
      "source": [
        "1 - norm.cdf(x = 1.250113) +  norm.cdf(x = -1.250113)"
      ],
      "metadata": {
        "colab": {
          "base_uri": "https://localhost:8080/"
        },
        "id": "RKo-3t0sgsu8",
        "outputId": "e873245d-1c91-4606-be36-568fd67cd0d7"
      },
      "execution_count": 6,
      "outputs": [
        {
          "output_type": "execute_result",
          "data": {
            "text/plain": [
              "0.21125827155567078"
            ]
          },
          "metadata": {},
          "execution_count": 6
        }
      ]
    },
    {
      "cell_type": "markdown",
      "source": [
        "> 分布Bについての帰無仮説を棄却したいのであれば、21％の有意水準を認めるほかない。つまり、確率21％で起こる現象を「確率的に起こり得ない事象」と見做す必要がある。0.21125...がp値"
      ],
      "metadata": {
        "id": "3cwLTol4ilU-"
      }
    },
    {
      "cell_type": "markdown",
      "source": [
        "## 5.3 回帰係数の検定"
      ],
      "metadata": {
        "id": "E9C7yPCxjafw"
      }
    },
    {
      "cell_type": "markdown",
      "source": [
        "### 5.3.1 OLS推定量の分布"
      ],
      "metadata": {
        "id": "QaRCMqDQrSvw"
      }
    },
    {
      "cell_type": "markdown",
      "source": [
        "* 回帰係数$β_1$のOLS推定量は、\n",
        "\\begin{equation}\n",
        "\\hat{\\beta}_1 = \\frac{\\sum_{i=1}^n (x_i - \\bar{x})(y_i - \\bar{y})}{\\sum_{i=1}^n (x_i - \\bar{x})^2}\n",
        "\\end{equation}  \n",
        "で表され、中心極限定理より  \n",
        "\\begin{equation}\n",
        "Z_n = \\frac{\\hat{β_1} - β_1}{σ_n}\n",
        "\\end{equation}  \n",
        "が近似的に$N(0,1)$に従う。この式を変形すると、  \n",
        "\\begin{equation}\n",
        "\\hat{β_1} = β_1 + σ_nZ_n\n",
        "\\end{equation}  \n",
        "$\\hat{β_1}$の分布は平均$β_1$、標準偏差$σ_n$の正規分布$N(β_1,σ^2_n)$で近似できる。\n"
      ],
      "metadata": {
        "id": "NUsn7PcDj1Ei"
      }
    },
    {
      "cell_type": "markdown",
      "source": [
        "### 5.3.2 $\\hat{β_1}$の分布のシミュレーション"
      ],
      "metadata": {
        "id": "mKWkSBxArZWL"
      }
    },
    {
      "cell_type": "code",
      "source": [
        "np.random.seed(2022)\n",
        "# 平均0、標準偏差1の正規分布に従う1000個のXを生成\n",
        "X = np.random.normal(loc = 0, scale = 1, size = 1000)\n",
        "# Y = 1 + 5X + εのモデルに従ってYを生成\n",
        "Y = 1 + 5 * X + np.random.normal(loc = 0, scale = 1, size = 1000)\n",
        "\n",
        "mydata = pd.DataFrame(np.array([X, Y]).transpose(), columns = ['X', 'Y'])\n",
        "\n",
        "# OLS回帰を適応し、β_1の推定値を取得\n",
        "beta1 = ols('Y ~ X', data = mydata).fit().params[1]"
      ],
      "metadata": {
        "id": "nstZmqH9qPbC"
      },
      "execution_count": 7,
      "outputs": []
    },
    {
      "cell_type": "code",
      "source": [
        "S = 10000\n",
        "beta1 = np.zeros(S) # 結果の保存\n",
        "for i in range(S):      # 繰り返し開始\n",
        "  X = np.random.normal(loc = 0, scale = 1, size = 1000)\n",
        "  Y = 1 + 5 * X + np.random.normal(loc = 0, scale = 1, size = 1000)\n",
        "  mydata = pd.DataFrame(np.array([X, Y]).transpose(), columns = ['X', 'Y'])\n",
        "  beta1[i] = ols('Y ~ X', data = mydata).fit().params[1]\n",
        "  # 繰り返し終了"
      ],
      "metadata": {
        "id": "IJMxgjiEqQE1"
      },
      "execution_count": 8,
      "outputs": []
    },
    {
      "cell_type": "code",
      "source": [
        "pd.DataFrame(beta1).describe()"
      ],
      "metadata": {
        "colab": {
          "base_uri": "https://localhost:8080/",
          "height": 300
        },
        "id": "zbApvdHpqWfL",
        "outputId": "0ae22072-17af-4df7-bbaa-9c2bd80c45e6"
      },
      "execution_count": 9,
      "outputs": [
        {
          "output_type": "execute_result",
          "data": {
            "text/plain": [
              "                  0\n",
              "count  10000.000000\n",
              "mean       5.000060\n",
              "std        0.031486\n",
              "min        4.887715\n",
              "25%        4.978288\n",
              "50%        4.999855\n",
              "75%        5.021525\n",
              "max        5.120464"
            ],
            "text/html": [
              "\n",
              "  <div id=\"df-f5780603-e820-4d0f-b6fd-6f5c7bd3aa38\" class=\"colab-df-container\">\n",
              "    <div>\n",
              "<style scoped>\n",
              "    .dataframe tbody tr th:only-of-type {\n",
              "        vertical-align: middle;\n",
              "    }\n",
              "\n",
              "    .dataframe tbody tr th {\n",
              "        vertical-align: top;\n",
              "    }\n",
              "\n",
              "    .dataframe thead th {\n",
              "        text-align: right;\n",
              "    }\n",
              "</style>\n",
              "<table border=\"1\" class=\"dataframe\">\n",
              "  <thead>\n",
              "    <tr style=\"text-align: right;\">\n",
              "      <th></th>\n",
              "      <th>0</th>\n",
              "    </tr>\n",
              "  </thead>\n",
              "  <tbody>\n",
              "    <tr>\n",
              "      <th>count</th>\n",
              "      <td>10000.000000</td>\n",
              "    </tr>\n",
              "    <tr>\n",
              "      <th>mean</th>\n",
              "      <td>5.000060</td>\n",
              "    </tr>\n",
              "    <tr>\n",
              "      <th>std</th>\n",
              "      <td>0.031486</td>\n",
              "    </tr>\n",
              "    <tr>\n",
              "      <th>min</th>\n",
              "      <td>4.887715</td>\n",
              "    </tr>\n",
              "    <tr>\n",
              "      <th>25%</th>\n",
              "      <td>4.978288</td>\n",
              "    </tr>\n",
              "    <tr>\n",
              "      <th>50%</th>\n",
              "      <td>4.999855</td>\n",
              "    </tr>\n",
              "    <tr>\n",
              "      <th>75%</th>\n",
              "      <td>5.021525</td>\n",
              "    </tr>\n",
              "    <tr>\n",
              "      <th>max</th>\n",
              "      <td>5.120464</td>\n",
              "    </tr>\n",
              "  </tbody>\n",
              "</table>\n",
              "</div>\n",
              "    <div class=\"colab-df-buttons\">\n",
              "\n",
              "  <div class=\"colab-df-container\">\n",
              "    <button class=\"colab-df-convert\" onclick=\"convertToInteractive('df-f5780603-e820-4d0f-b6fd-6f5c7bd3aa38')\"\n",
              "            title=\"Convert this dataframe to an interactive table.\"\n",
              "            style=\"display:none;\">\n",
              "\n",
              "  <svg xmlns=\"http://www.w3.org/2000/svg\" height=\"24px\" viewBox=\"0 -960 960 960\">\n",
              "    <path d=\"M120-120v-720h720v720H120Zm60-500h600v-160H180v160Zm220 220h160v-160H400v160Zm0 220h160v-160H400v160ZM180-400h160v-160H180v160Zm440 0h160v-160H620v160ZM180-180h160v-160H180v160Zm440 0h160v-160H620v160Z\"/>\n",
              "  </svg>\n",
              "    </button>\n",
              "\n",
              "  <style>\n",
              "    .colab-df-container {\n",
              "      display:flex;\n",
              "      gap: 12px;\n",
              "    }\n",
              "\n",
              "    .colab-df-convert {\n",
              "      background-color: #E8F0FE;\n",
              "      border: none;\n",
              "      border-radius: 50%;\n",
              "      cursor: pointer;\n",
              "      display: none;\n",
              "      fill: #1967D2;\n",
              "      height: 32px;\n",
              "      padding: 0 0 0 0;\n",
              "      width: 32px;\n",
              "    }\n",
              "\n",
              "    .colab-df-convert:hover {\n",
              "      background-color: #E2EBFA;\n",
              "      box-shadow: 0px 1px 2px rgba(60, 64, 67, 0.3), 0px 1px 3px 1px rgba(60, 64, 67, 0.15);\n",
              "      fill: #174EA6;\n",
              "    }\n",
              "\n",
              "    .colab-df-buttons div {\n",
              "      margin-bottom: 4px;\n",
              "    }\n",
              "\n",
              "    [theme=dark] .colab-df-convert {\n",
              "      background-color: #3B4455;\n",
              "      fill: #D2E3FC;\n",
              "    }\n",
              "\n",
              "    [theme=dark] .colab-df-convert:hover {\n",
              "      background-color: #434B5C;\n",
              "      box-shadow: 0px 1px 3px 1px rgba(0, 0, 0, 0.15);\n",
              "      filter: drop-shadow(0px 1px 2px rgba(0, 0, 0, 0.3));\n",
              "      fill: #FFFFFF;\n",
              "    }\n",
              "  </style>\n",
              "\n",
              "    <script>\n",
              "      const buttonEl =\n",
              "        document.querySelector('#df-f5780603-e820-4d0f-b6fd-6f5c7bd3aa38 button.colab-df-convert');\n",
              "      buttonEl.style.display =\n",
              "        google.colab.kernel.accessAllowed ? 'block' : 'none';\n",
              "\n",
              "      async function convertToInteractive(key) {\n",
              "        const element = document.querySelector('#df-f5780603-e820-4d0f-b6fd-6f5c7bd3aa38');\n",
              "        const dataTable =\n",
              "          await google.colab.kernel.invokeFunction('convertToInteractive',\n",
              "                                                    [key], {});\n",
              "        if (!dataTable) return;\n",
              "\n",
              "        const docLinkHtml = 'Like what you see? Visit the ' +\n",
              "          '<a target=\"_blank\" href=https://colab.research.google.com/notebooks/data_table.ipynb>data table notebook</a>'\n",
              "          + ' to learn more about interactive tables.';\n",
              "        element.innerHTML = '';\n",
              "        dataTable['output_type'] = 'display_data';\n",
              "        await google.colab.output.renderOutput(dataTable, element);\n",
              "        const docLink = document.createElement('div');\n",
              "        docLink.innerHTML = docLinkHtml;\n",
              "        element.appendChild(docLink);\n",
              "      }\n",
              "    </script>\n",
              "  </div>\n",
              "\n",
              "\n",
              "<div id=\"df-2a6e78f0-4fcf-4f1d-8bdc-28d51e6504ea\">\n",
              "  <button class=\"colab-df-quickchart\" onclick=\"quickchart('df-2a6e78f0-4fcf-4f1d-8bdc-28d51e6504ea')\"\n",
              "            title=\"Suggest charts\"\n",
              "            style=\"display:none;\">\n",
              "\n",
              "<svg xmlns=\"http://www.w3.org/2000/svg\" height=\"24px\"viewBox=\"0 0 24 24\"\n",
              "     width=\"24px\">\n",
              "    <g>\n",
              "        <path d=\"M19 3H5c-1.1 0-2 .9-2 2v14c0 1.1.9 2 2 2h14c1.1 0 2-.9 2-2V5c0-1.1-.9-2-2-2zM9 17H7v-7h2v7zm4 0h-2V7h2v10zm4 0h-2v-4h2v4z\"/>\n",
              "    </g>\n",
              "</svg>\n",
              "  </button>\n",
              "\n",
              "<style>\n",
              "  .colab-df-quickchart {\n",
              "      --bg-color: #E8F0FE;\n",
              "      --fill-color: #1967D2;\n",
              "      --hover-bg-color: #E2EBFA;\n",
              "      --hover-fill-color: #174EA6;\n",
              "      --disabled-fill-color: #AAA;\n",
              "      --disabled-bg-color: #DDD;\n",
              "  }\n",
              "\n",
              "  [theme=dark] .colab-df-quickchart {\n",
              "      --bg-color: #3B4455;\n",
              "      --fill-color: #D2E3FC;\n",
              "      --hover-bg-color: #434B5C;\n",
              "      --hover-fill-color: #FFFFFF;\n",
              "      --disabled-bg-color: #3B4455;\n",
              "      --disabled-fill-color: #666;\n",
              "  }\n",
              "\n",
              "  .colab-df-quickchart {\n",
              "    background-color: var(--bg-color);\n",
              "    border: none;\n",
              "    border-radius: 50%;\n",
              "    cursor: pointer;\n",
              "    display: none;\n",
              "    fill: var(--fill-color);\n",
              "    height: 32px;\n",
              "    padding: 0;\n",
              "    width: 32px;\n",
              "  }\n",
              "\n",
              "  .colab-df-quickchart:hover {\n",
              "    background-color: var(--hover-bg-color);\n",
              "    box-shadow: 0 1px 2px rgba(60, 64, 67, 0.3), 0 1px 3px 1px rgba(60, 64, 67, 0.15);\n",
              "    fill: var(--button-hover-fill-color);\n",
              "  }\n",
              "\n",
              "  .colab-df-quickchart-complete:disabled,\n",
              "  .colab-df-quickchart-complete:disabled:hover {\n",
              "    background-color: var(--disabled-bg-color);\n",
              "    fill: var(--disabled-fill-color);\n",
              "    box-shadow: none;\n",
              "  }\n",
              "\n",
              "  .colab-df-spinner {\n",
              "    border: 2px solid var(--fill-color);\n",
              "    border-color: transparent;\n",
              "    border-bottom-color: var(--fill-color);\n",
              "    animation:\n",
              "      spin 1s steps(1) infinite;\n",
              "  }\n",
              "\n",
              "  @keyframes spin {\n",
              "    0% {\n",
              "      border-color: transparent;\n",
              "      border-bottom-color: var(--fill-color);\n",
              "      border-left-color: var(--fill-color);\n",
              "    }\n",
              "    20% {\n",
              "      border-color: transparent;\n",
              "      border-left-color: var(--fill-color);\n",
              "      border-top-color: var(--fill-color);\n",
              "    }\n",
              "    30% {\n",
              "      border-color: transparent;\n",
              "      border-left-color: var(--fill-color);\n",
              "      border-top-color: var(--fill-color);\n",
              "      border-right-color: var(--fill-color);\n",
              "    }\n",
              "    40% {\n",
              "      border-color: transparent;\n",
              "      border-right-color: var(--fill-color);\n",
              "      border-top-color: var(--fill-color);\n",
              "    }\n",
              "    60% {\n",
              "      border-color: transparent;\n",
              "      border-right-color: var(--fill-color);\n",
              "    }\n",
              "    80% {\n",
              "      border-color: transparent;\n",
              "      border-right-color: var(--fill-color);\n",
              "      border-bottom-color: var(--fill-color);\n",
              "    }\n",
              "    90% {\n",
              "      border-color: transparent;\n",
              "      border-bottom-color: var(--fill-color);\n",
              "    }\n",
              "  }\n",
              "</style>\n",
              "\n",
              "  <script>\n",
              "    async function quickchart(key) {\n",
              "      const quickchartButtonEl =\n",
              "        document.querySelector('#' + key + ' button');\n",
              "      quickchartButtonEl.disabled = true;  // To prevent multiple clicks.\n",
              "      quickchartButtonEl.classList.add('colab-df-spinner');\n",
              "      try {\n",
              "        const charts = await google.colab.kernel.invokeFunction(\n",
              "            'suggestCharts', [key], {});\n",
              "      } catch (error) {\n",
              "        console.error('Error during call to suggestCharts:', error);\n",
              "      }\n",
              "      quickchartButtonEl.classList.remove('colab-df-spinner');\n",
              "      quickchartButtonEl.classList.add('colab-df-quickchart-complete');\n",
              "    }\n",
              "    (() => {\n",
              "      let quickchartButtonEl =\n",
              "        document.querySelector('#df-2a6e78f0-4fcf-4f1d-8bdc-28d51e6504ea button');\n",
              "      quickchartButtonEl.style.display =\n",
              "        google.colab.kernel.accessAllowed ? 'block' : 'none';\n",
              "    })();\n",
              "  </script>\n",
              "</div>\n",
              "    </div>\n",
              "  </div>\n"
            ],
            "application/vnd.google.colaboratory.intrinsic+json": {
              "type": "dataframe",
              "summary": "{\n  \"name\": \"pd\",\n  \"rows\": 8,\n  \"fields\": [\n    {\n      \"column\": 0,\n      \"properties\": {\n        \"dtype\": \"number\",\n        \"std\": 3534.0171158852686,\n        \"min\": 0.031485975068477653,\n        \"max\": 10000.0,\n        \"num_unique_values\": 8,\n        \"samples\": [\n          5.000060270126057,\n          4.999855386603853,\n          10000.0\n        ],\n        \"semantic_type\": \"\",\n        \"description\": \"\"\n      }\n    }\n  ]\n}"
            }
          },
          "metadata": {},
          "execution_count": 9
        }
      ]
    },
    {
      "cell_type": "code",
      "source": [
        "plt.hist(beta1, bins = 20)\n",
        "plt.show()"
      ],
      "metadata": {
        "colab": {
          "base_uri": "https://localhost:8080/",
          "height": 430
        },
        "id": "8PcOirUTqseQ",
        "outputId": "0aefed69-c172-4167-9c63-c4a56a347b15"
      },
      "execution_count": 10,
      "outputs": [
        {
          "output_type": "display_data",
          "data": {
            "text/plain": [
              "<Figure size 640x480 with 1 Axes>"
            ],
            "image/png": "[encoded data removed]"
          },
          "metadata": {}
        }
      ]
    },
    {
      "cell_type": "markdown",
      "source": [
        "> $\\hat{β_1}$の分布はおおむね$N(5,0.0318^2)$となる。"
      ],
      "metadata": {
        "id": "EMqETWJFv-SM"
      }
    },
    {
      "cell_type": "markdown",
      "source": [
        "### 5.3.3 回帰係数のt検定"
      ],
      "metadata": {
        "id": "FLs8IQa2od1w"
      }
    },
    {
      "cell_type": "markdown",
      "source": [
        "1. 単回帰モデル$Y = β_0 + β_1X + ε$の係数$β_1$について、帰無仮説を$H_0:β_1$ = $0$、対立仮説を$H_1:β_1$ != $0$とする。\n",
        "2. OLS推定量$\\hat{β_1}$と、標準偏差$σ_n$を計算。\n",
        "3. $t_n = \\frac{\\hat{β_1}}{σ_n}$として、$|t_n| > 1.96$であれば、有意水準5％で帰無仮説を棄却する。"
      ],
      "metadata": {
        "id": "CgG5af3Zw66R"
      }
    },
    {
      "cell_type": "markdown",
      "source": [
        "### 5.3.4 p値による回帰係数の検定"
      ],
      "metadata": {
        "id": "LwRTPzUezMTu"
      }
    },
    {
      "cell_type": "markdown",
      "source": [
        "1. 単回帰モデル$Y = β_0 + β_1X + ε$の係数$β_1$について、帰無仮説を$H_0:β_1$ = $0$、対立仮説を$H_1:β_1$ != $0$とする。\n",
        "2. OLS推定量$\\hat{β_1}$と、標準偏差$σ_n$を計算。\n",
        "3. $t_n = \\frac{\\hat{β_1}}{σ_n}$を計算。\n",
        "4. $N(0,1)$に従う確率変数$z$について、$|z| > |t_n|$となる確率を計算する。この値が小さいほど、帰無仮説を棄却することが容易。"
      ],
      "metadata": {
        "id": "w8WjKmFyzc1u"
      }
    },
    {
      "cell_type": "markdown",
      "source": [
        "### 5.3.6 pythonによる分析例"
      ],
      "metadata": {
        "id": "Xc2nb4d70V3z"
      }
    },
    {
      "cell_type": "markdown",
      "source": [
        "\\begin{equation}\n",
        "log(wage) = β_0 + β_{educ}educ + β_{exper}exper + ε\n",
        "\\end{equation}"
      ],
      "metadata": {
        "id": "FXon2R4w2Cus"
      }
    },
    {
      "cell_type": "code",
      "source": [
        "wagedata = pd.read_csv('/content/drive/MyDrive/応用マクロゼミ/wage.csv')\n",
        "\n",
        "# 目的変数を対数に変換することで、係数を変化率として解釈できる\n",
        "wagedata['log_wage'] = np.log(wagedata['wage'])\n",
        "\n",
        "result = ols('log_wage ~ educ + exper', data = wagedata).fit()\n",
        "print(result.summary())"
      ],
      "metadata": {
        "colab": {
          "base_uri": "https://localhost:8080/"
        },
        "id": "UnUP3dyGqw8J",
        "outputId": "5974c0d4-dbf2-4d80-f21d-2b5a6e1b40f5"
      },
      "execution_count": 2,
      "outputs": [
        {
          "output_type": "stream",
          "name": "stdout",
          "text": [
            "                            OLS Regression Results                            \n",
            "==============================================================================\n",
            "Dep. Variable:               log_wage   R-squared:                       0.181\n",
            "Model:                            OLS   Adj. R-squared:                  0.181\n",
            "Method:                 Least Squares   F-statistic:                     333.0\n",
            "Date:                Sun, 26 May 2024   Prob (F-statistic):          2.32e-131\n",
            "Time:                        07:39:59   Log-Likelihood:                -1524.1\n",
            "No. Observations:                3010   AIC:                             3054.\n",
            "Df Residuals:                    3007   BIC:                             3072.\n",
            "Df Model:                           2                                         \n",
            "Covariance Type:            nonrobust                                         \n",
            "==============================================================================\n",
            "                 coef    std err          t      P>|t|      [0.025      0.975]\n",
            "------------------------------------------------------------------------------\n",
            "Intercept      4.6660      0.064     73.147      0.000       4.541       4.791\n",
            "educ           0.0932      0.004     25.796      0.000       0.086       0.100\n",
            "exper          0.0407      0.002     17.417      0.000       0.036       0.045\n",
            "==============================================================================\n",
            "Omnibus:                       37.191   Durbin-Watson:                   1.739\n",
            "Prob(Omnibus):                  0.000   Jarque-Bera (JB):               41.243\n",
            "Skew:                          -0.228   Prob(JB):                     1.11e-09\n",
            "Kurtosis:                       3.348   Cond. No.                         140.\n",
            "==============================================================================\n",
            "\n",
            "Notes:\n",
            "[1] Standard Errors assume that the covariance matrix of the errors is correctly specified.\n"
          ]
        }
      ]
    },
    {
      "cell_type": "code",
      "source": [
        "print(f't値:', 0.0932 / 0.004, '> 1.96')\n",
        "print('p値: 0.000 ')"
      ],
      "metadata": {
        "colab": {
          "base_uri": "https://localhost:8080/"
        },
        "id": "U9prX-y52tsC",
        "outputId": "f3e1ff0a-e33d-4e75-a4b8-b31ca8aef6d1"
      },
      "execution_count": 9,
      "outputs": [
        {
          "output_type": "stream",
          "name": "stdout",
          "text": [
            "t値: 23.3 > 1.96\n",
            "p値: 0.000 \n"
          ]
        }
      ]
    },
    {
      "cell_type": "markdown",
      "source": [
        "> ある人の教育年数と経験年数を知ることができれば、その人の賃金を予測するのに役立つと結論できる。"
      ],
      "metadata": {
        "id": "O8N7anG93o2b"
      }
    },
    {
      "cell_type": "markdown",
      "source": [
        "## 5.4 信頼区間"
      ],
      "metadata": {
        "id": "rUXzB0nkFxia"
      }
    },
    {
      "cell_type": "markdown",
      "source": [
        "* $信頼区間 = 点推定値 + or - (z * 標準誤差)$  \n",
        "  今回の例では...$信頼区間 = \\hat{β_k} + or - (1.96σ_{nk})$  \n",
        "* 信頼区間の解釈：  \n",
        "  ×（間違い）「95％の確率で$0.086\\leqμ\\leq0.100$」  \n",
        "  〇（正しい）「100回に95回の割合で母平均を含む推定をしたら$0.086\\leqμ\\leq0.100$と求まった。この範囲に母平均が含まれていると信頼することには一定の合理性がある。」  "
      ],
      "metadata": {
        "id": "ADP1F3cN-us-"
      }
    },
    {
      "cell_type": "code",
      "source": [
        "betahat = result.params\n",
        "sigma = result.bse\n",
        "\n",
        "lower = betahat - 1.96 * sigma\n",
        "upper = betahat + 1.96 * sigma\n",
        "pd.concat([lower, upper], axis = 1)"
      ],
      "metadata": {
        "colab": {
          "base_uri": "https://localhost:8080/",
          "height": 143
        },
        "id": "uMMsAh6A2uIy",
        "outputId": "d4d03114-4833-419f-f0da-93923976a1e5"
      },
      "execution_count": 10,
      "outputs": [
        {
          "output_type": "execute_result",
          "data": {
            "text/plain": [
              "                  0         1\n",
              "Intercept  4.541006  4.791063\n",
              "educ       0.086089  0.100247\n",
              "exper      0.036082  0.045233"
            ],
            "text/html": [
              "\n",
              "  <div id=\"df-61509d60-63fd-452f-9431-70ad5a50713e\" class=\"colab-df-container\">\n",
              "    <div>\n",
              "<style scoped>\n",
              "    .dataframe tbody tr th:only-of-type {\n",
              "        vertical-align: middle;\n",
              "    }\n",
              "\n",
              "    .dataframe tbody tr th {\n",
              "        vertical-align: top;\n",
              "    }\n",
              "\n",
              "    .dataframe thead th {\n",
              "        text-align: right;\n",
              "    }\n",
              "</style>\n",
              "<table border=\"1\" class=\"dataframe\">\n",
              "  <thead>\n",
              "    <tr style=\"text-align: right;\">\n",
              "      <th></th>\n",
              "      <th>0</th>\n",
              "      <th>1</th>\n",
              "    </tr>\n",
              "  </thead>\n",
              "  <tbody>\n",
              "    <tr>\n",
              "      <th>Intercept</th>\n",
              "      <td>4.541006</td>\n",
              "      <td>4.791063</td>\n",
              "    </tr>\n",
              "    <tr>\n",
              "      <th>educ</th>\n",
              "      <td>0.086089</td>\n",
              "      <td>0.100247</td>\n",
              "    </tr>\n",
              "    <tr>\n",
              "      <th>exper</th>\n",
              "      <td>0.036082</td>\n",
              "      <td>0.045233</td>\n",
              "    </tr>\n",
              "  </tbody>\n",
              "</table>\n",
              "</div>\n",
              "    <div class=\"colab-df-buttons\">\n",
              "\n",
              "  <div class=\"colab-df-container\">\n",
              "    <button class=\"colab-df-convert\" onclick=\"convertToInteractive('df-61509d60-63fd-452f-9431-70ad5a50713e')\"\n",
              "            title=\"Convert this dataframe to an interactive table.\"\n",
              "            style=\"display:none;\">\n",
              "\n",
              "  <svg xmlns=\"http://www.w3.org/2000/svg\" height=\"24px\" viewBox=\"0 -960 960 960\">\n",
              "    <path d=\"M120-120v-720h720v720H120Zm60-500h600v-160H180v160Zm220 220h160v-160H400v160Zm0 220h160v-160H400v160ZM180-400h160v-160H180v160Zm440 0h160v-160H620v160ZM180-180h160v-160H180v160Zm440 0h160v-160H620v160Z\"/>\n",
              "  </svg>\n",
              "    </button>\n",
              "\n",
              "  <style>\n",
              "    .colab-df-container {\n",
              "      display:flex;\n",
              "      gap: 12px;\n",
              "    }\n",
              "\n",
              "    .colab-df-convert {\n",
              "      background-color: #E8F0FE;\n",
              "      border: none;\n",
              "      border-radius: 50%;\n",
              "      cursor: pointer;\n",
              "      display: none;\n",
              "      fill: #1967D2;\n",
              "      height: 32px;\n",
              "      padding: 0 0 0 0;\n",
              "      width: 32px;\n",
              "    }\n",
              "\n",
              "    .colab-df-convert:hover {\n",
              "      background-color: #E2EBFA;\n",
              "      box-shadow: 0px 1px 2px rgba(60, 64, 67, 0.3), 0px 1px 3px 1px rgba(60, 64, 67, 0.15);\n",
              "      fill: #174EA6;\n",
              "    }\n",
              "\n",
              "    .colab-df-buttons div {\n",
              "      margin-bottom: 4px;\n",
              "    }\n",
              "\n",
              "    [theme=dark] .colab-df-convert {\n",
              "      background-color: #3B4455;\n",
              "      fill: #D2E3FC;\n",
              "    }\n",
              "\n",
              "    [theme=dark] .colab-df-convert:hover {\n",
              "      background-color: #434B5C;\n",
              "      box-shadow: 0px 1px 3px 1px rgba(0, 0, 0, 0.15);\n",
              "      filter: drop-shadow(0px 1px 2px rgba(0, 0, 0, 0.3));\n",
              "      fill: #FFFFFF;\n",
              "    }\n",
              "  </style>\n",
              "\n",
              "    <script>\n",
              "      const buttonEl =\n",
              "        document.querySelector('#df-61509d60-63fd-452f-9431-70ad5a50713e button.colab-df-convert');\n",
              "      buttonEl.style.display =\n",
              "        google.colab.kernel.accessAllowed ? 'block' : 'none';\n",
              "\n",
              "      async function convertToInteractive(key) {\n",
              "        const element = document.querySelector('#df-61509d60-63fd-452f-9431-70ad5a50713e');\n",
              "        const dataTable =\n",
              "          await google.colab.kernel.invokeFunction('convertToInteractive',\n",
              "                                                    [key], {});\n",
              "        if (!dataTable) return;\n",
              "\n",
              "        const docLinkHtml = 'Like what you see? Visit the ' +\n",
              "          '<a target=\"_blank\" href=https://colab.research.google.com/notebooks/data_table.ipynb>data table notebook</a>'\n",
              "          + ' to learn more about interactive tables.';\n",
              "        element.innerHTML = '';\n",
              "        dataTable['output_type'] = 'display_data';\n",
              "        await google.colab.output.renderOutput(dataTable, element);\n",
              "        const docLink = document.createElement('div');\n",
              "        docLink.innerHTML = docLinkHtml;\n",
              "        element.appendChild(docLink);\n",
              "      }\n",
              "    </script>\n",
              "  </div>\n",
              "\n",
              "\n",
              "<div id=\"df-6e7d04d1-ec67-44e3-9722-101e7b46df35\">\n",
              "  <button class=\"colab-df-quickchart\" onclick=\"quickchart('df-6e7d04d1-ec67-44e3-9722-101e7b46df35')\"\n",
              "            title=\"Suggest charts\"\n",
              "            style=\"display:none;\">\n",
              "\n",
              "<svg xmlns=\"http://www.w3.org/2000/svg\" height=\"24px\"viewBox=\"0 0 24 24\"\n",
              "     width=\"24px\">\n",
              "    <g>\n",
              "        <path d=\"M19 3H5c-1.1 0-2 .9-2 2v14c0 1.1.9 2 2 2h14c1.1 0 2-.9 2-2V5c0-1.1-.9-2-2-2zM9 17H7v-7h2v7zm4 0h-2V7h2v10zm4 0h-2v-4h2v4z\"/>\n",
              "    </g>\n",
              "</svg>\n",
              "  </button>\n",
              "\n",
              "<style>\n",
              "  .colab-df-quickchart {\n",
              "      --bg-color: #E8F0FE;\n",
              "      --fill-color: #1967D2;\n",
              "      --hover-bg-color: #E2EBFA;\n",
              "      --hover-fill-color: #174EA6;\n",
              "      --disabled-fill-color: #AAA;\n",
              "      --disabled-bg-color: #DDD;\n",
              "  }\n",
              "\n",
              "  [theme=dark] .colab-df-quickchart {\n",
              "      --bg-color: #3B4455;\n",
              "      --fill-color: #D2E3FC;\n",
              "      --hover-bg-color: #434B5C;\n",
              "      --hover-fill-color: #FFFFFF;\n",
              "      --disabled-bg-color: #3B4455;\n",
              "      --disabled-fill-color: #666;\n",
              "  }\n",
              "\n",
              "  .colab-df-quickchart {\n",
              "    background-color: var(--bg-color);\n",
              "    border: none;\n",
              "    border-radius: 50%;\n",
              "    cursor: pointer;\n",
              "    display: none;\n",
              "    fill: var(--fill-color);\n",
              "    height: 32px;\n",
              "    padding: 0;\n",
              "    width: 32px;\n",
              "  }\n",
              "\n",
              "  .colab-df-quickchart:hover {\n",
              "    background-color: var(--hover-bg-color);\n",
              "    box-shadow: 0 1px 2px rgba(60, 64, 67, 0.3), 0 1px 3px 1px rgba(60, 64, 67, 0.15);\n",
              "    fill: var(--button-hover-fill-color);\n",
              "  }\n",
              "\n",
              "  .colab-df-quickchart-complete:disabled,\n",
              "  .colab-df-quickchart-complete:disabled:hover {\n",
              "    background-color: var(--disabled-bg-color);\n",
              "    fill: var(--disabled-fill-color);\n",
              "    box-shadow: none;\n",
              "  }\n",
              "\n",
              "  .colab-df-spinner {\n",
              "    border: 2px solid var(--fill-color);\n",
              "    border-color: transparent;\n",
              "    border-bottom-color: var(--fill-color);\n",
              "    animation:\n",
              "      spin 1s steps(1) infinite;\n",
              "  }\n",
              "\n",
              "  @keyframes spin {\n",
              "    0% {\n",
              "      border-color: transparent;\n",
              "      border-bottom-color: var(--fill-color);\n",
              "      border-left-color: var(--fill-color);\n",
              "    }\n",
              "    20% {\n",
              "      border-color: transparent;\n",
              "      border-left-color: var(--fill-color);\n",
              "      border-top-color: var(--fill-color);\n",
              "    }\n",
              "    30% {\n",
              "      border-color: transparent;\n",
              "      border-left-color: var(--fill-color);\n",
              "      border-top-color: var(--fill-color);\n",
              "      border-right-color: var(--fill-color);\n",
              "    }\n",
              "    40% {\n",
              "      border-color: transparent;\n",
              "      border-right-color: var(--fill-color);\n",
              "      border-top-color: var(--fill-color);\n",
              "    }\n",
              "    60% {\n",
              "      border-color: transparent;\n",
              "      border-right-color: var(--fill-color);\n",
              "    }\n",
              "    80% {\n",
              "      border-color: transparent;\n",
              "      border-right-color: var(--fill-color);\n",
              "      border-bottom-color: var(--fill-color);\n",
              "    }\n",
              "    90% {\n",
              "      border-color: transparent;\n",
              "      border-bottom-color: var(--fill-color);\n",
              "    }\n",
              "  }\n",
              "</style>\n",
              "\n",
              "  <script>\n",
              "    async function quickchart(key) {\n",
              "      const quickchartButtonEl =\n",
              "        document.querySelector('#' + key + ' button');\n",
              "      quickchartButtonEl.disabled = true;  // To prevent multiple clicks.\n",
              "      quickchartButtonEl.classList.add('colab-df-spinner');\n",
              "      try {\n",
              "        const charts = await google.colab.kernel.invokeFunction(\n",
              "            'suggestCharts', [key], {});\n",
              "      } catch (error) {\n",
              "        console.error('Error during call to suggestCharts:', error);\n",
              "      }\n",
              "      quickchartButtonEl.classList.remove('colab-df-spinner');\n",
              "      quickchartButtonEl.classList.add('colab-df-quickchart-complete');\n",
              "    }\n",
              "    (() => {\n",
              "      let quickchartButtonEl =\n",
              "        document.querySelector('#df-6e7d04d1-ec67-44e3-9722-101e7b46df35 button');\n",
              "      quickchartButtonEl.style.display =\n",
              "        google.colab.kernel.accessAllowed ? 'block' : 'none';\n",
              "    })();\n",
              "  </script>\n",
              "</div>\n",
              "    </div>\n",
              "  </div>\n"
            ],
            "application/vnd.google.colaboratory.intrinsic+json": {
              "type": "dataframe",
              "summary": "{\n  \"name\": \"pd\",\n  \"rows\": 3,\n  \"fields\": [\n    {\n      \"column\": 0,\n      \"properties\": {\n        \"dtype\": \"number\",\n        \"std\": 2.586604204991643,\n        \"min\": 0.03608192987990505,\n        \"max\": 4.54100604205374,\n        \"num_unique_values\": 3,\n        \"samples\": [\n          4.54100604205374,\n          0.08608899266788192,\n          0.03608192987990505\n        ],\n        \"semantic_type\": \"\",\n        \"description\": \"\"\n      }\n    },\n    {\n      \"column\": 1,\n      \"properties\": {\n        \"dtype\": \"number\",\n        \"std\": 2.72426388512132,\n        \"min\": 0.04523279993547637,\n        \"max\": 4.791062851979977,\n        \"num_unique_values\": 3,\n        \"samples\": [\n          4.791062851979977,\n          0.1002470547506445,\n          0.04523279993547637\n        ],\n        \"semantic_type\": \"\",\n        \"description\": \"\"\n      }\n    }\n  ]\n}"
            }
          },
          "metadata": {},
          "execution_count": 10
        }
      ]
    },
    {
      "cell_type": "code",
      "source": [
        "# 信頼区間 = 1 - 有意水準 = 1 - alpha\n",
        "result.conf_int(alpha = 0.05)"
      ],
      "metadata": {
        "colab": {
          "base_uri": "https://localhost:8080/",
          "height": 143
        },
        "id": "j-ve0YrxEe-N",
        "outputId": "0856a90b-3ba4-4d70-d6c0-553c7b6351ce"
      },
      "execution_count": 11,
      "outputs": [
        {
          "output_type": "execute_result",
          "data": {
            "text/plain": [
              "                  0         1\n",
              "Intercept  4.540958  4.791111\n",
              "educ       0.086086  0.100250\n",
              "exper      0.036080  0.045235"
            ],
            "text/html": [
              "\n",
              "  <div id=\"df-6bf4cd07-1b25-41d6-a043-6b98d4bc808b\" class=\"colab-df-container\">\n",
              "    <div>\n",
              "<style scoped>\n",
              "    .dataframe tbody tr th:only-of-type {\n",
              "        vertical-align: middle;\n",
              "    }\n",
              "\n",
              "    .dataframe tbody tr th {\n",
              "        vertical-align: top;\n",
              "    }\n",
              "\n",
              "    .dataframe thead th {\n",
              "        text-align: right;\n",
              "    }\n",
              "</style>\n",
              "<table border=\"1\" class=\"dataframe\">\n",
              "  <thead>\n",
              "    <tr style=\"text-align: right;\">\n",
              "      <th></th>\n",
              "      <th>0</th>\n",
              "      <th>1</th>\n",
              "    </tr>\n",
              "  </thead>\n",
              "  <tbody>\n",
              "    <tr>\n",
              "      <th>Intercept</th>\n",
              "      <td>4.540958</td>\n",
              "      <td>4.791111</td>\n",
              "    </tr>\n",
              "    <tr>\n",
              "      <th>educ</th>\n",
              "      <td>0.086086</td>\n",
              "      <td>0.100250</td>\n",
              "    </tr>\n",
              "    <tr>\n",
              "      <th>exper</th>\n",
              "      <td>0.036080</td>\n",
              "      <td>0.045235</td>\n",
              "    </tr>\n",
              "  </tbody>\n",
              "</table>\n",
              "</div>\n",
              "    <div class=\"colab-df-buttons\">\n",
              "\n",
              "  <div class=\"colab-df-container\">\n",
              "    <button class=\"colab-df-convert\" onclick=\"convertToInteractive('df-6bf4cd07-1b25-41d6-a043-6b98d4bc808b')\"\n",
              "            title=\"Convert this dataframe to an interactive table.\"\n",
              "            style=\"display:none;\">\n",
              "\n",
              "  <svg xmlns=\"http://www.w3.org/2000/svg\" height=\"24px\" viewBox=\"0 -960 960 960\">\n",
              "    <path d=\"M120-120v-720h720v720H120Zm60-500h600v-160H180v160Zm220 220h160v-160H400v160Zm0 220h160v-160H400v160ZM180-400h160v-160H180v160Zm440 0h160v-160H620v160ZM180-180h160v-160H180v160Zm440 0h160v-160H620v160Z\"/>\n",
              "  </svg>\n",
              "    </button>\n",
              "\n",
              "  <style>\n",
              "    .colab-df-container {\n",
              "      display:flex;\n",
              "      gap: 12px;\n",
              "    }\n",
              "\n",
              "    .colab-df-convert {\n",
              "      background-color: #E8F0FE;\n",
              "      border: none;\n",
              "      border-radius: 50%;\n",
              "      cursor: pointer;\n",
              "      display: none;\n",
              "      fill: #1967D2;\n",
              "      height: 32px;\n",
              "      padding: 0 0 0 0;\n",
              "      width: 32px;\n",
              "    }\n",
              "\n",
              "    .colab-df-convert:hover {\n",
              "      background-color: #E2EBFA;\n",
              "      box-shadow: 0px 1px 2px rgba(60, 64, 67, 0.3), 0px 1px 3px 1px rgba(60, 64, 67, 0.15);\n",
              "      fill: #174EA6;\n",
              "    }\n",
              "\n",
              "    .colab-df-buttons div {\n",
              "      margin-bottom: 4px;\n",
              "    }\n",
              "\n",
              "    [theme=dark] .colab-df-convert {\n",
              "      background-color: #3B4455;\n",
              "      fill: #D2E3FC;\n",
              "    }\n",
              "\n",
              "    [theme=dark] .colab-df-convert:hover {\n",
              "      background-color: #434B5C;\n",
              "      box-shadow: 0px 1px 3px 1px rgba(0, 0, 0, 0.15);\n",
              "      filter: drop-shadow(0px 1px 2px rgba(0, 0, 0, 0.3));\n",
              "      fill: #FFFFFF;\n",
              "    }\n",
              "  </style>\n",
              "\n",
              "    <script>\n",
              "      const buttonEl =\n",
              "        document.querySelector('#df-6bf4cd07-1b25-41d6-a043-6b98d4bc808b button.colab-df-convert');\n",
              "      buttonEl.style.display =\n",
              "        google.colab.kernel.accessAllowed ? 'block' : 'none';\n",
              "\n",
              "      async function convertToInteractive(key) {\n",
              "        const element = document.querySelector('#df-6bf4cd07-1b25-41d6-a043-6b98d4bc808b');\n",
              "        const dataTable =\n",
              "          await google.colab.kernel.invokeFunction('convertToInteractive',\n",
              "                                                    [key], {});\n",
              "        if (!dataTable) return;\n",
              "\n",
              "        const docLinkHtml = 'Like what you see? Visit the ' +\n",
              "          '<a target=\"_blank\" href=https://colab.research.google.com/notebooks/data_table.ipynb>data table notebook</a>'\n",
              "          + ' to learn more about interactive tables.';\n",
              "        element.innerHTML = '';\n",
              "        dataTable['output_type'] = 'display_data';\n",
              "        await google.colab.output.renderOutput(dataTable, element);\n",
              "        const docLink = document.createElement('div');\n",
              "        docLink.innerHTML = docLinkHtml;\n",
              "        element.appendChild(docLink);\n",
              "      }\n",
              "    </script>\n",
              "  </div>\n",
              "\n",
              "\n",
              "<div id=\"df-eb569b96-6242-4164-901d-48ae5550f6f1\">\n",
              "  <button class=\"colab-df-quickchart\" onclick=\"quickchart('df-eb569b96-6242-4164-901d-48ae5550f6f1')\"\n",
              "            title=\"Suggest charts\"\n",
              "            style=\"display:none;\">\n",
              "\n",
              "<svg xmlns=\"http://www.w3.org/2000/svg\" height=\"24px\"viewBox=\"0 0 24 24\"\n",
              "     width=\"24px\">\n",
              "    <g>\n",
              "        <path d=\"M19 3H5c-1.1 0-2 .9-2 2v14c0 1.1.9 2 2 2h14c1.1 0 2-.9 2-2V5c0-1.1-.9-2-2-2zM9 17H7v-7h2v7zm4 0h-2V7h2v10zm4 0h-2v-4h2v4z\"/>\n",
              "    </g>\n",
              "</svg>\n",
              "  </button>\n",
              "\n",
              "<style>\n",
              "  .colab-df-quickchart {\n",
              "      --bg-color: #E8F0FE;\n",
              "      --fill-color: #1967D2;\n",
              "      --hover-bg-color: #E2EBFA;\n",
              "      --hover-fill-color: #174EA6;\n",
              "      --disabled-fill-color: #AAA;\n",
              "      --disabled-bg-color: #DDD;\n",
              "  }\n",
              "\n",
              "  [theme=dark] .colab-df-quickchart {\n",
              "      --bg-color: #3B4455;\n",
              "      --fill-color: #D2E3FC;\n",
              "      --hover-bg-color: #434B5C;\n",
              "      --hover-fill-color: #FFFFFF;\n",
              "      --disabled-bg-color: #3B4455;\n",
              "      --disabled-fill-color: #666;\n",
              "  }\n",
              "\n",
              "  .colab-df-quickchart {\n",
              "    background-color: var(--bg-color);\n",
              "    border: none;\n",
              "    border-radius: 50%;\n",
              "    cursor: pointer;\n",
              "    display: none;\n",
              "    fill: var(--fill-color);\n",
              "    height: 32px;\n",
              "    padding: 0;\n",
              "    width: 32px;\n",
              "  }\n",
              "\n",
              "  .colab-df-quickchart:hover {\n",
              "    background-color: var(--hover-bg-color);\n",
              "    box-shadow: 0 1px 2px rgba(60, 64, 67, 0.3), 0 1px 3px 1px rgba(60, 64, 67, 0.15);\n",
              "    fill: var(--button-hover-fill-color);\n",
              "  }\n",
              "\n",
              "  .colab-df-quickchart-complete:disabled,\n",
              "  .colab-df-quickchart-complete:disabled:hover {\n",
              "    background-color: var(--disabled-bg-color);\n",
              "    fill: var(--disabled-fill-color);\n",
              "    box-shadow: none;\n",
              "  }\n",
              "\n",
              "  .colab-df-spinner {\n",
              "    border: 2px solid var(--fill-color);\n",
              "    border-color: transparent;\n",
              "    border-bottom-color: var(--fill-color);\n",
              "    animation:\n",
              "      spin 1s steps(1) infinite;\n",
              "  }\n",
              "\n",
              "  @keyframes spin {\n",
              "    0% {\n",
              "      border-color: transparent;\n",
              "      border-bottom-color: var(--fill-color);\n",
              "      border-left-color: var(--fill-color);\n",
              "    }\n",
              "    20% {\n",
              "      border-color: transparent;\n",
              "      border-left-color: var(--fill-color);\n",
              "      border-top-color: var(--fill-color);\n",
              "    }\n",
              "    30% {\n",
              "      border-color: transparent;\n",
              "      border-left-color: var(--fill-color);\n",
              "      border-top-color: var(--fill-color);\n",
              "      border-right-color: var(--fill-color);\n",
              "    }\n",
              "    40% {\n",
              "      border-color: transparent;\n",
              "      border-right-color: var(--fill-color);\n",
              "      border-top-color: var(--fill-color);\n",
              "    }\n",
              "    60% {\n",
              "      border-color: transparent;\n",
              "      border-right-color: var(--fill-color);\n",
              "    }\n",
              "    80% {\n",
              "      border-color: transparent;\n",
              "      border-right-color: var(--fill-color);\n",
              "      border-bottom-color: var(--fill-color);\n",
              "    }\n",
              "    90% {\n",
              "      border-color: transparent;\n",
              "      border-bottom-color: var(--fill-color);\n",
              "    }\n",
              "  }\n",
              "</style>\n",
              "\n",
              "  <script>\n",
              "    async function quickchart(key) {\n",
              "      const quickchartButtonEl =\n",
              "        document.querySelector('#' + key + ' button');\n",
              "      quickchartButtonEl.disabled = true;  // To prevent multiple clicks.\n",
              "      quickchartButtonEl.classList.add('colab-df-spinner');\n",
              "      try {\n",
              "        const charts = await google.colab.kernel.invokeFunction(\n",
              "            'suggestCharts', [key], {});\n",
              "      } catch (error) {\n",
              "        console.error('Error during call to suggestCharts:', error);\n",
              "      }\n",
              "      quickchartButtonEl.classList.remove('colab-df-spinner');\n",
              "      quickchartButtonEl.classList.add('colab-df-quickchart-complete');\n",
              "    }\n",
              "    (() => {\n",
              "      let quickchartButtonEl =\n",
              "        document.querySelector('#df-eb569b96-6242-4164-901d-48ae5550f6f1 button');\n",
              "      quickchartButtonEl.style.display =\n",
              "        google.colab.kernel.accessAllowed ? 'block' : 'none';\n",
              "    })();\n",
              "  </script>\n",
              "</div>\n",
              "    </div>\n",
              "  </div>\n"
            ],
            "application/vnd.google.colaboratory.intrinsic+json": {
              "type": "dataframe",
              "summary": "{\n  \"name\": \"result\",\n  \"rows\": 3,\n  \"fields\": [\n    {\n      \"column\": 0,\n      \"properties\": {\n        \"dtype\": \"number\",\n        \"std\": 2.5865777542573314,\n        \"min\": 0.03608017157510281,\n        \"max\": 4.540957994590815,\n        \"num_unique_values\": 3,\n        \"samples\": [\n          4.540957994590815,\n          0.08608627225021677,\n          0.03608017157510281\n        ],\n        \"semantic_type\": \"\",\n        \"description\": \"\"\n      }\n    },\n    {\n      \"column\": 1,\n      \"properties\": {\n        \"dtype\": \"number\",\n        \"std\": 2.7242903359502377,\n        \"min\": 0.04523455824027861,\n        \"max\": 4.791110899442903,\n        \"num_unique_values\": 3,\n        \"samples\": [\n          4.791110899442903,\n          0.10024977516830964,\n          0.04523455824027861\n        ],\n        \"semantic_type\": \"\",\n        \"description\": \"\"\n      }\n    }\n  ]\n}"
            }
          },
          "metadata": {},
          "execution_count": 11
        }
      ]
    },
    {
      "cell_type": "code",
      "source": [
        "result.conf_int(alpha = 0.01)"
      ],
      "metadata": {
        "colab": {
          "base_uri": "https://localhost:8080/",
          "height": 143
        },
        "id": "9OFmumcQElPd",
        "outputId": "9760f792-247d-454a-d00c-04c3a7097f33"
      },
      "execution_count": 12,
      "outputs": [
        {
          "output_type": "execute_result",
          "data": {
            "text/plain": [
              "                  0         1\n",
              "Intercept  4.501618  4.830451\n",
              "educ       0.083859  0.102477\n",
              "exper      0.034641  0.046674"
            ],
            "text/html": [
              "\n",
              "  <div id=\"df-55864853-1c5e-4056-82bf-7b78d09d823f\" class=\"colab-df-container\">\n",
              "    <div>\n",
              "<style scoped>\n",
              "    .dataframe tbody tr th:only-of-type {\n",
              "        vertical-align: middle;\n",
              "    }\n",
              "\n",
              "    .dataframe tbody tr th {\n",
              "        vertical-align: top;\n",
              "    }\n",
              "\n",
              "    .dataframe thead th {\n",
              "        text-align: right;\n",
              "    }\n",
              "</style>\n",
              "<table border=\"1\" class=\"dataframe\">\n",
              "  <thead>\n",
              "    <tr style=\"text-align: right;\">\n",
              "      <th></th>\n",
              "      <th>0</th>\n",
              "      <th>1</th>\n",
              "    </tr>\n",
              "  </thead>\n",
              "  <tbody>\n",
              "    <tr>\n",
              "      <th>Intercept</th>\n",
              "      <td>4.501618</td>\n",
              "      <td>4.830451</td>\n",
              "    </tr>\n",
              "    <tr>\n",
              "      <th>educ</th>\n",
              "      <td>0.083859</td>\n",
              "      <td>0.102477</td>\n",
              "    </tr>\n",
              "    <tr>\n",
              "      <th>exper</th>\n",
              "      <td>0.034641</td>\n",
              "      <td>0.046674</td>\n",
              "    </tr>\n",
              "  </tbody>\n",
              "</table>\n",
              "</div>\n",
              "    <div class=\"colab-df-buttons\">\n",
              "\n",
              "  <div class=\"colab-df-container\">\n",
              "    <button class=\"colab-df-convert\" onclick=\"convertToInteractive('df-55864853-1c5e-4056-82bf-7b78d09d823f')\"\n",
              "            title=\"Convert this dataframe to an interactive table.\"\n",
              "            style=\"display:none;\">\n",
              "\n",
              "  <svg xmlns=\"http://www.w3.org/2000/svg\" height=\"24px\" viewBox=\"0 -960 960 960\">\n",
              "    <path d=\"M120-120v-720h720v720H120Zm60-500h600v-160H180v160Zm220 220h160v-160H400v160Zm0 220h160v-160H400v160ZM180-400h160v-160H180v160Zm440 0h160v-160H620v160ZM180-180h160v-160H180v160Zm440 0h160v-160H620v160Z\"/>\n",
              "  </svg>\n",
              "    </button>\n",
              "\n",
              "  <style>\n",
              "    .colab-df-container {\n",
              "      display:flex;\n",
              "      gap: 12px;\n",
              "    }\n",
              "\n",
              "    .colab-df-convert {\n",
              "      background-color: #E8F0FE;\n",
              "      border: none;\n",
              "      border-radius: 50%;\n",
              "      cursor: pointer;\n",
              "      display: none;\n",
              "      fill: #1967D2;\n",
              "      height: 32px;\n",
              "      padding: 0 0 0 0;\n",
              "      width: 32px;\n",
              "    }\n",
              "\n",
              "    .colab-df-convert:hover {\n",
              "      background-color: #E2EBFA;\n",
              "      box-shadow: 0px 1px 2px rgba(60, 64, 67, 0.3), 0px 1px 3px 1px rgba(60, 64, 67, 0.15);\n",
              "      fill: #174EA6;\n",
              "    }\n",
              "\n",
              "    .colab-df-buttons div {\n",
              "      margin-bottom: 4px;\n",
              "    }\n",
              "\n",
              "    [theme=dark] .colab-df-convert {\n",
              "      background-color: #3B4455;\n",
              "      fill: #D2E3FC;\n",
              "    }\n",
              "\n",
              "    [theme=dark] .colab-df-convert:hover {\n",
              "      background-color: #434B5C;\n",
              "      box-shadow: 0px 1px 3px 1px rgba(0, 0, 0, 0.15);\n",
              "      filter: drop-shadow(0px 1px 2px rgba(0, 0, 0, 0.3));\n",
              "      fill: #FFFFFF;\n",
              "    }\n",
              "  </style>\n",
              "\n",
              "    <script>\n",
              "      const buttonEl =\n",
              "        document.querySelector('#df-55864853-1c5e-4056-82bf-7b78d09d823f button.colab-df-convert');\n",
              "      buttonEl.style.display =\n",
              "        google.colab.kernel.accessAllowed ? 'block' : 'none';\n",
              "\n",
              "      async function convertToInteractive(key) {\n",
              "        const element = document.querySelector('#df-55864853-1c5e-4056-82bf-7b78d09d823f');\n",
              "        const dataTable =\n",
              "          await google.colab.kernel.invokeFunction('convertToInteractive',\n",
              "                                                    [key], {});\n",
              "        if (!dataTable) return;\n",
              "\n",
              "        const docLinkHtml = 'Like what you see? Visit the ' +\n",
              "          '<a target=\"_blank\" href=https://colab.research.google.com/notebooks/data_table.ipynb>data table notebook</a>'\n",
              "          + ' to learn more about interactive tables.';\n",
              "        element.innerHTML = '';\n",
              "        dataTable['output_type'] = 'display_data';\n",
              "        await google.colab.output.renderOutput(dataTable, element);\n",
              "        const docLink = document.createElement('div');\n",
              "        docLink.innerHTML = docLinkHtml;\n",
              "        element.appendChild(docLink);\n",
              "      }\n",
              "    </script>\n",
              "  </div>\n",
              "\n",
              "\n",
              "<div id=\"df-ac35ebdf-82c4-4cc4-a179-de08287b9098\">\n",
              "  <button class=\"colab-df-quickchart\" onclick=\"quickchart('df-ac35ebdf-82c4-4cc4-a179-de08287b9098')\"\n",
              "            title=\"Suggest charts\"\n",
              "            style=\"display:none;\">\n",
              "\n",
              "<svg xmlns=\"http://www.w3.org/2000/svg\" height=\"24px\"viewBox=\"0 0 24 24\"\n",
              "     width=\"24px\">\n",
              "    <g>\n",
              "        <path d=\"M19 3H5c-1.1 0-2 .9-2 2v14c0 1.1.9 2 2 2h14c1.1 0 2-.9 2-2V5c0-1.1-.9-2-2-2zM9 17H7v-7h2v7zm4 0h-2V7h2v10zm4 0h-2v-4h2v4z\"/>\n",
              "    </g>\n",
              "</svg>\n",
              "  </button>\n",
              "\n",
              "<style>\n",
              "  .colab-df-quickchart {\n",
              "      --bg-color: #E8F0FE;\n",
              "      --fill-color: #1967D2;\n",
              "      --hover-bg-color: #E2EBFA;\n",
              "      --hover-fill-color: #174EA6;\n",
              "      --disabled-fill-color: #AAA;\n",
              "      --disabled-bg-color: #DDD;\n",
              "  }\n",
              "\n",
              "  [theme=dark] .colab-df-quickchart {\n",
              "      --bg-color: #3B4455;\n",
              "      --fill-color: #D2E3FC;\n",
              "      --hover-bg-color: #434B5C;\n",
              "      --hover-fill-color: #FFFFFF;\n",
              "      --disabled-bg-color: #3B4455;\n",
              "      --disabled-fill-color: #666;\n",
              "  }\n",
              "\n",
              "  .colab-df-quickchart {\n",
              "    background-color: var(--bg-color);\n",
              "    border: none;\n",
              "    border-radius: 50%;\n",
              "    cursor: pointer;\n",
              "    display: none;\n",
              "    fill: var(--fill-color);\n",
              "    height: 32px;\n",
              "    padding: 0;\n",
              "    width: 32px;\n",
              "  }\n",
              "\n",
              "  .colab-df-quickchart:hover {\n",
              "    background-color: var(--hover-bg-color);\n",
              "    box-shadow: 0 1px 2px rgba(60, 64, 67, 0.3), 0 1px 3px 1px rgba(60, 64, 67, 0.15);\n",
              "    fill: var(--button-hover-fill-color);\n",
              "  }\n",
              "\n",
              "  .colab-df-quickchart-complete:disabled,\n",
              "  .colab-df-quickchart-complete:disabled:hover {\n",
              "    background-color: var(--disabled-bg-color);\n",
              "    fill: var(--disabled-fill-color);\n",
              "    box-shadow: none;\n",
              "  }\n",
              "\n",
              "  .colab-df-spinner {\n",
              "    border: 2px solid var(--fill-color);\n",
              "    border-color: transparent;\n",
              "    border-bottom-color: var(--fill-color);\n",
              "    animation:\n",
              "      spin 1s steps(1) infinite;\n",
              "  }\n",
              "\n",
              "  @keyframes spin {\n",
              "    0% {\n",
              "      border-color: transparent;\n",
              "      border-bottom-color: var(--fill-color);\n",
              "      border-left-color: var(--fill-color);\n",
              "    }\n",
              "    20% {\n",
              "      border-color: transparent;\n",
              "      border-left-color: var(--fill-color);\n",
              "      border-top-color: var(--fill-color);\n",
              "    }\n",
              "    30% {\n",
              "      border-color: transparent;\n",
              "      border-left-color: var(--fill-color);\n",
              "      border-top-color: var(--fill-color);\n",
              "      border-right-color: var(--fill-color);\n",
              "    }\n",
              "    40% {\n",
              "      border-color: transparent;\n",
              "      border-right-color: var(--fill-color);\n",
              "      border-top-color: var(--fill-color);\n",
              "    }\n",
              "    60% {\n",
              "      border-color: transparent;\n",
              "      border-right-color: var(--fill-color);\n",
              "    }\n",
              "    80% {\n",
              "      border-color: transparent;\n",
              "      border-right-color: var(--fill-color);\n",
              "      border-bottom-color: var(--fill-color);\n",
              "    }\n",
              "    90% {\n",
              "      border-color: transparent;\n",
              "      border-bottom-color: var(--fill-color);\n",
              "    }\n",
              "  }\n",
              "</style>\n",
              "\n",
              "  <script>\n",
              "    async function quickchart(key) {\n",
              "      const quickchartButtonEl =\n",
              "        document.querySelector('#' + key + ' button');\n",
              "      quickchartButtonEl.disabled = true;  // To prevent multiple clicks.\n",
              "      quickchartButtonEl.classList.add('colab-df-spinner');\n",
              "      try {\n",
              "        const charts = await google.colab.kernel.invokeFunction(\n",
              "            'suggestCharts', [key], {});\n",
              "      } catch (error) {\n",
              "        console.error('Error during call to suggestCharts:', error);\n",
              "      }\n",
              "      quickchartButtonEl.classList.remove('colab-df-spinner');\n",
              "      quickchartButtonEl.classList.add('colab-df-quickchart-complete');\n",
              "    }\n",
              "    (() => {\n",
              "      let quickchartButtonEl =\n",
              "        document.querySelector('#df-ac35ebdf-82c4-4cc4-a179-de08287b9098 button');\n",
              "      quickchartButtonEl.style.display =\n",
              "        google.colab.kernel.accessAllowed ? 'block' : 'none';\n",
              "    })();\n",
              "  </script>\n",
              "</div>\n",
              "    </div>\n",
              "  </div>\n"
            ],
            "application/vnd.google.colaboratory.intrinsic+json": {
              "type": "dataframe",
              "summary": "{\n  \"name\": \"result\",\n  \"rows\": 3,\n  \"fields\": [\n    {\n      \"column\": 0,\n      \"properties\": {\n        \"dtype\": \"number\",\n        \"std\": 2.5649205581101167,\n        \"min\": 0.03464051537400354,\n        \"max\": 4.501617928034167,\n        \"num_unique_values\": 3,\n        \"samples\": [\n          4.501617928034167,\n          0.08385886198767153,\n          0.03464051537400354\n        ],\n        \"semantic_type\": \"\",\n        \"description\": \"\"\n      }\n    },\n    {\n      \"column\": 1,\n      \"properties\": {\n        \"dtype\": \"number\",\n        \"std\": 2.7459476218015264,\n        \"min\": 0.04667421444137788,\n        \"max\": 4.8304509659995505,\n        \"num_unique_values\": 3,\n        \"samples\": [\n          4.8304509659995505,\n          0.10247718543085488,\n          0.04667421444137788\n        ],\n        \"semantic_type\": \"\",\n        \"description\": \"\"\n      }\n    }\n  ]\n}"
            }
          },
          "metadata": {},
          "execution_count": 12
        }
      ]
    }
  ]
}