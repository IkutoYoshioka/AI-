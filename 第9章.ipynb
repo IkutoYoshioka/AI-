{
  "nbformat": 4,
  "nbformat_minor": 0,
  "metadata": {
    "colab": {
      "provenance": [],
      "authorship_tag": "ABX9TyMFJnMrvdV8Igacd3kXkiHg",
      "include_colab_link": true
    },
    "kernelspec": {
      "name": "python3",
      "display_name": "Python 3"
    },
    "language_info": {
      "name": "python"
    }
  },
  "cells": [
    {
      "cell_type": "markdown",
      "metadata": {
        "id": "view-in-github",
        "colab_type": "text"
      },
      "source": [
        "<a href=\"https://colab.research.google.com/github/IkutoYoshioka/AI-/blob/main/%E7%AC%AC9%E7%AB%A0.ipynb\" target=\"_parent\"><img src=\"https://colab.research.google.com/assets/colab-badge.svg\" alt=\"Open In Colab\"/></a>"
      ]
    },
    {
      "cell_type": "markdown",
      "source": [
        "# 第9章：マッチング法  \n",
        "  \n",
        "  ...**トリートメントの異なる似た者同士を比較する準実験法の手法**"
      ],
      "metadata": {
        "id": "bqUNyuyFa4d9"
      }
    },
    {
      "cell_type": "markdown",
      "source": [
        "## 9.1 マッチング法の背景"
      ],
      "metadata": {
        "id": "6oJSSBpca_aC"
      }
    },
    {
      "cell_type": "markdown",
      "source": [
        "### 9.1.1 条件付独立性"
      ],
      "metadata": {
        "id": "UhPRZlJ3b_qU"
      }
    },
    {
      "cell_type": "markdown",
      "source": [
        "ex) 研修プログラムに参加することで賃金がどのように変化するか  \n",
        "  \n",
        "* 「研修参加者における研修の因果的効果」...  \n",
        "\\begin{equation}\n",
        "ATET : E[Y_{1i} - Y_{0i} | D_i = 1]\n",
        "\\end{equation}\n",
        "\n",
        "\n",
        "\\begin{array}{l}\n",
        "\\text{(ある社員 $i$ について、研修に参加 -> $D_i = 1$、不参加 -> $D_i = 0$)} \\\\\n",
        "\\text{($i$ が参加したときに得られる賃金 -> $Y_{1i}$ 、不参加で得られる賃金 -> $Y_{0i}$)}\n",
        "\\end{array}  \n",
        "  \n",
        "➡ランダム化実験を実施せずに$ATET$を推定することは可能か？  \n",
        "\n",
        "\n"
      ],
      "metadata": {
        "id": "lI3f79cpcu4r"
      }
    },
    {
      "cell_type": "markdown",
      "source": [
        "* 条件付独立性...\n",
        "\\begin{equation}\n",
        "{Y_{1i},Y_{0i}} \\perp\\!\\!\\!\\perp D_i | X_{1i},X_{2i}\\;\\;\\;\\;(9.1)\n",
        "\\end{equation}  \n",
        "  (社員$i$の経験年数を$X_{1i}$ 、研修以前の賃金を$X_{2i}$とする。)  \n",
        "\n",
        "...経験年数$X_1$と研修以前の賃金$X_2$が等しい性質の集団においては、研修に参加するかしないかは完全にランダムであることを意味する。  \n",
        "\n",
        "  ➡「トリートメントの割り当てが完全なランダムではなく、共変量$X_1,X_2$に依存してよい」という点がランダム化実験の完全な独立性よりも現実的。    "
      ],
      "metadata": {
        "id": "Q_l29pMlnfzl"
      }
    },
    {
      "cell_type": "markdown",
      "source": [
        "\\begin{equation}\n",
        "\\begin{aligned}\n",
        "ATET &= E[Y_{1i} - Y_{0i} | D_i = 1]\\\\\n",
        "&= E[Y_{1i} | D_i = 1] - E[Y_{0i} | D_i = 1]\\\\\n",
        "&= \\underline{E[Y_i | D_i = 1]} - \\underline{E(E[Y_i | D_i = 0,X_{1i},X_{2i}] | D_i = 1)}\n",
        "\\end{aligned}\n",
        "\\end{equation}  \n",
        "\n",
        "-- $E[Y_i | D_i = 1]$;研修参加者の平均賃金から推定可能  \n",
        "-- $E(\\underline{E[Y_i | D_i = 0,X_{1i},X_{2i}]} | D_i = 1)$; 下線を「コントロールグループの中から、$X_{1i}=X_{1j},X_{2i}=X_{2j}$を満たす個人$j$を探し（$i$と$j$のマッチング）、個人$j$の賃金$Y_j$を$E[Y_i|D_i=0,X_{1i},X_{2i}]$の代わりに用いる」     "
      ],
      "metadata": {
        "id": "I1X0a0R20pOS"
      }
    },
    {
      "cell_type": "markdown",
      "source": [
        "### 9.1.2 条件付独立性の妥当性"
      ],
      "metadata": {
        "id": "FTwiImEnG882"
      }
    },
    {
      "cell_type": "markdown",
      "source": [
        "* トリートメントと潜在的な成果に同時に影響を与える観測できない要因が存在する場合、マッチング法によってATETを推定することはできない。  \n",
        "※ランダム化実験では、観測の可否に関わらずすべての要因と独立にランダムにトリートメントが割り当てられるため、このような問題は生じない。"
      ],
      "metadata": {
        "id": "_XIKGY_7K1Dm"
      }
    },
    {
      "cell_type": "markdown",
      "source": [
        "### 9.1.3 オーバーラップ条件"
      ],
      "metadata": {
        "id": "sn8o1wt8VaY6"
      }
    },
    {
      "cell_type": "markdown",
      "source": [
        "\\begin{equation}\n",
        "0 < P(D_i = 1 | X_{1i},X_{2i}) < 1\n",
        "\\end{equation}  \n",
        "* $P(D_i = 1 | X_{1i},X_{2i})$を傾向スコアという。"
      ],
      "metadata": {
        "id": "VW00fpdOVjgy"
      }
    },
    {
      "cell_type": "markdown",
      "source": [
        "## 9.2 マッチング法によるATETの推定  \n",
        "  \n",
        "  ...以降では、条件付独立とオーバーラップ条件が満たされていると仮定"
      ],
      "metadata": {
        "id": "yfyRVH_bWe6D"
      }
    },
    {
      "cell_type": "markdown",
      "source": [
        "### 9.2.1 厳密なマッチング"
      ],
      "metadata": {
        "id": "-zPuJi7W7T8O"
      }
    },
    {
      "cell_type": "markdown",
      "source": [
        "\\begin{equation}\n",
        "ATET = E[Y_i | D_i = 1] - E(E[Y_i | D_i = 0,X_{1i},X_{2i} | D_i = 1)\n",
        "\\end{equation}  \n",
        "* $E[Y_i|D_i=0,X_{1i},X_{2i}]$の近似値として、$\\hat{Y_{0i}}$を次のように定義する。  \n",
        "\\begin{equation}\n",
        "\\hat{Y_{0i}}\n",
        "\\begin{cases}\n",
        "Y_i & \\text{if  } D_i = 0\\\\\n",
        "Y_j & \\text{if  } D_i = 1, D_j = 0, X_{1j} = X_{1i}, X_{2j} = X_{2i}\n",
        "\\end{cases}\n",
        "\\end{equation}  \n",
        "  \n",
        "* $E[Y_i|D_i = 0,X_{1i},X_{2i}]$に$\\hat{Y_{0i}}$を代入することで、\n",
        "\\begin{equation}\n",
        "ATET \\approx E[Y_i - \\hat{Y_{0i}}|D_i = 1]\n",
        "\\end{equation}  \n",
        "  \n",
        "  と近似できるので、$ATET$の推定量は、  \n",
        "\n",
        "\\begin{equation}\n",
        "\\widehat{ATET} = \\frac{\\sum_{i=0}^{n} D_i(Y_i - \\hat{Y_{0i}})}{\\sum_{i=0}^{n} D_i}\n",
        "\\end{equation}   \n"
      ],
      "metadata": {
        "id": "fcAstvur6VEE"
      }
    },
    {
      "cell_type": "markdown",
      "source": [
        "### 9.2.2 最近傍マッチング  \n",
        "...より一般的な状況の下で$ATET$が推定できるように$\\hat{Y_{0i}}$の定義式を修正し、$X_1,X_2$の値が最も近い個人同士でマッチングする方法。"
      ],
      "metadata": {
        "id": "I_zg1QoS7swS"
      }
    },
    {
      "cell_type": "markdown",
      "source": [
        "「近さ」について...\n",
        "* 絶対値距離；$d(i,j) = |X_{1i} - X_{1j}| + |X_{2i} - X_{2j}|$  \n",
        "* ユークリッド距離；$d(i,j) = \\sqrt{(X_{1i} - X_{1j})^2 + (X_{2i} - X_{2j})^2}$  \n",
        "➡各変数の単位に大きく依存するため、それぞれの変数を標準化し、単位に依存せずに個人間の近さを測る方法を考える。  \n",
        "\n",
        "\n",
        "* 標準化ユークリッド距離；$d(i,j) = \\sqrt{\\Delta^2_{1ij} + \\Delta^2_{2ij}}$\n",
        "* マハラノビス距離；$d(i,j) = \\sqrt{\\frac{1}{1-\\rho^2}[\\Delta^2_{1ij}+\\Delta^2_{2ij}-2\\rho\\Delta_{1ij}\\Delta_{2ij}]}$  \n",
        "  ただし、$\\Delta_{1ij} = \\frac{X_{1i} - X_{1j}}{\\sigma_1}$. $\\Delta_{2ij} = \\frac{X_{2i} - X_{2j}}{\\sigma_2}$  \n",
        "  $\\sigma_1$と$\\sigma_2$はそれぞれ$X_1$と$X_2$の標準誤差を表し、$\\rho$は$X_1,X_2$の相関係数。    "
      ],
      "metadata": {
        "id": "yPV5pMGu8C0S"
      }
    },
    {
      "cell_type": "markdown",
      "source": [
        "--コントロールグループの中で$d(i,j)$の値が$j$に関して最も小さい個人を$j^*$として、個人$i$のマッチング相手に選ぶ。  \n",
        "\\begin{equation}\n",
        "\\hat{Y_{0i}} =\n",
        "\\begin{cases}\n",
        "Y_i & \\text{if  }D_i = 0\\\\\n",
        "Y_{j^*} & \\text{if  }D_i = 1\n",
        "\\end{cases}\n",
        "\\end{equation}"
      ],
      "metadata": {
        "id": "iHrynkVYUrhf"
      }
    },
    {
      "cell_type": "markdown",
      "source": [
        "### 9.2.3 傾向スコアマッチング"
      ],
      "metadata": {
        "id": "BlBL2kZ1nfAU"
      }
    },
    {
      "cell_type": "markdown",
      "source": [
        "\\begin{equation}\n",
        "{Y_{1i},Y_{0i}} \\perp\\!\\!\\!\\perp D_i | X_{1i},...,X_{ki}\\;\\;(9.8)\n",
        "\\end{equation}  \n",
        "$k$個の共変量$X_1,..,X_k$を何らかの1次元の指標$b(X_1,...,X_k)$に集約し、これを用いて上式と同様の条件付独立が満たされるならば、マッチングを実施することは可能。  \n",
        "\n",
        "\\begin{equation}\n",
        "式(9.8) ➡ Y_{1i},Y_{0i} \\perp\\!\\!\\!\\perp D_i | P(D_i = 1 | X_{1i},...,X_{ki})...傾向スコア定理\n",
        "\\end{equation}  \n",
        "  \n",
        "  したがって、$d(i,j)$を個人$i,j$間の傾向スコアの距離として、最近傍マッチングから$\\hat{Y_{0i}}$を計算することができる。  \n",
        "  ※共変量に連続な変数が含まれる場合傾向スコアも連続なので、厳密なマッチングは使用できない。  \n",
        "    \n",
        "  一般的に、傾向スコアは未知であるため、ロジットモデルやプロビットモデルなどの確率モデルを使用して推定する必要がある。"
      ],
      "metadata": {
        "id": "AH4DUL2Uf1kV"
      }
    },
    {
      "cell_type": "markdown",
      "source": [
        "### 9.2.4 その他のマッチング"
      ],
      "metadata": {
        "id": "kz8wBGi6RluU"
      }
    },
    {
      "cell_type": "markdown",
      "source": [
        "* **K-最近傍マッチング**  \n",
        "...最近傍マッチングを一般化したもの。コントロールグループの中で$d(i.j)$の値が最も小さい個人だけでなく、$K$番目に近い個人まで含めて$\\hat{Y_{0i}}$の計算を行う。  \n",
        "  \n",
        "  コントロールグループの中で$d(i,j)$の値が$j$に関して$m$番目に小さい個人を$j(m)$とするとき(すなわち、$j(1) = j^*$)。$\\hat{Y_{0i}}$は、  \n",
        "  \\begin{equation}\n",
        "  \\hat{Y_{0i}} =\n",
        "  \\begin{cases}\n",
        "  Y_i & \\text{if  }D_i = 0\\\\\n",
        "  1/K\\sum^K_{m=1}Y_{j(m)} & \\text{if  }D_i = 1\n",
        "  \\end{cases}\n",
        "  \\end{equation}  \n",
        "    \n",
        "    「より大きな（小さな）$K$を用いれば推定の分散は小さく（大きく）、バイアスは大きく（小さく）なる」というトレードオフが存在する。"
      ],
      "metadata": {
        "id": "ATG-2O_IRrKg"
      }
    },
    {
      "cell_type": "markdown",
      "source": [
        "* **カリパーマッチング**  \n",
        "...マッチングの相手の数を限定せずに、ある正の値$h$について、コントロールグループの中で$d(i,j) < h$を満たすすべての個人$j$を個人$i$のマッチング相手とする方法。  \n",
        "  \n",
        "  \\begin{equation}\n",
        "  \\hat{Y_{0i}} =\n",
        "  \\begin{cases}\n",
        "  Y_i & \\text{if  }D_i = 0\\\\\n",
        "  \\frac{\\sum^n_{j=1}1(D_j = 0,d(i,j) < h) * Y_j}{\\sum^n_{j=1}1(D_j = 0,d(i,j) < h)} & \\text{if  }D_i = 1\n",
        "  \\end{cases}\n",
        "  \\end{equation}  \n",
        "    \n",
        "    ここで、1(・)は括弧内が正しければ1、誤りならば0をとる関数。"
      ],
      "metadata": {
        "id": "tfy1JYFuZSGU"
      }
    }
  ]
}